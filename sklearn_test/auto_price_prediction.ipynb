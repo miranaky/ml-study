{
 "cells": [
  {
   "cell_type": "code",
   "execution_count": 42,
   "metadata": {},
   "outputs": [
    {
     "name": "stdout",
     "output_type": "stream",
     "text": [
      "The nb_black extension is already loaded. To reload it, use:\n",
      "  %reload_ext nb_black\n"
     ]
    },
    {
     "data": {
      "application/javascript": "\n            setTimeout(function() {\n                var nbb_cell_id = 42;\n                var nbb_unformatted_code = \"%load_ext nb_black\";\n                var nbb_formatted_code = \"%load_ext nb_black\";\n                var nbb_cells = Jupyter.notebook.get_cells();\n                for (var i = 0; i < nbb_cells.length; ++i) {\n                    if (nbb_cells[i].input_prompt_number == nbb_cell_id) {\n                        if (nbb_cells[i].get_text() == nbb_unformatted_code) {\n                             nbb_cells[i].set_text(nbb_formatted_code);\n                        }\n                        break;\n                    }\n                }\n            }, 500);\n            ",
      "text/plain": [
       "<IPython.core.display.Javascript object>"
      ]
     },
     "metadata": {},
     "output_type": "display_data"
    }
   ],
   "source": [
    "%load_ext nb_black"
   ]
  },
  {
   "cell_type": "code",
   "execution_count": 59,
   "metadata": {},
   "outputs": [
    {
     "data": {
      "application/javascript": "\n            setTimeout(function() {\n                var nbb_cell_id = 59;\n                var nbb_unformatted_code = \"from sklearn.linear_model import LinearRegression\\nfrom sklearn.model_selection import train_test_split,KFold,cross_validate\\nfrom sklearn.metrics import mean_absolute_error,mean_squared_error,mean_absolute_percentage_error\\nfrom sklearn.preprocessing import OneHotEncoder,LabelEncoder\\nfrom sklearn.impute import SimpleImputer\\nimport pandas as pd\\nimport numpy as np\";\n                var nbb_formatted_code = \"from sklearn.linear_model import LinearRegression\\nfrom sklearn.model_selection import train_test_split, KFold, cross_validate\\nfrom sklearn.metrics import (\\n    mean_absolute_error,\\n    mean_squared_error,\\n    mean_absolute_percentage_error,\\n)\\nfrom sklearn.preprocessing import OneHotEncoder, LabelEncoder\\nfrom sklearn.impute import SimpleImputer\\nimport pandas as pd\\nimport numpy as np\";\n                var nbb_cells = Jupyter.notebook.get_cells();\n                for (var i = 0; i < nbb_cells.length; ++i) {\n                    if (nbb_cells[i].input_prompt_number == nbb_cell_id) {\n                        if (nbb_cells[i].get_text() == nbb_unformatted_code) {\n                             nbb_cells[i].set_text(nbb_formatted_code);\n                        }\n                        break;\n                    }\n                }\n            }, 500);\n            ",
      "text/plain": [
       "<IPython.core.display.Javascript object>"
      ]
     },
     "metadata": {},
     "output_type": "display_data"
    }
   ],
   "source": [
    "from sklearn.linear_model import LinearRegression\n",
    "from sklearn.model_selection import train_test_split,KFold,cross_validate\n",
    "from sklearn.metrics import mean_absolute_error,mean_squared_error,mean_absolute_percentage_error\n",
    "from sklearn.preprocessing import OneHotEncoder,LabelEncoder\n",
    "from sklearn.impute import SimpleImputer\n",
    "import pandas as pd\n",
    "import numpy as np\n",
    "\n"
   ]
  },
  {
   "cell_type": "code",
   "execution_count": 31,
   "metadata": {},
   "outputs": [
    {
     "data": {
      "application/javascript": "\n            setTimeout(function() {\n                var nbb_cell_id = 31;\n                var nbb_unformatted_code = \"def one_hot_encoding(objs: list, df) -> pd.DataFrame:\\n    encoder = OneHotEncoder()\\n    one_hots = []\\n    for obj in objs:\\n        one_hot = encoder.fit_transform(df[obj].values.reshape(-1, 1)).toarray()\\n        one_hots.append(\\n            pd.DataFrame(\\n                one_hot, columns=[f\\\"{obj}_{new}\\\" for new in encoder.categories_[0]]\\n            )\\n        )\\n    return pd.concat(one_hots, axis=1)\";\n                var nbb_formatted_code = \"def one_hot_encoding(objs: list, df) -> pd.DataFrame:\\n    encoder = OneHotEncoder()\\n    one_hots = []\\n    for obj in objs:\\n        one_hot = encoder.fit_transform(df[obj].values.reshape(-1, 1)).toarray()\\n        one_hots.append(\\n            pd.DataFrame(\\n                one_hot, columns=[f\\\"{obj}_{new}\\\" for new in encoder.categories_[0]]\\n            )\\n        )\\n    return pd.concat(one_hots, axis=1)\";\n                var nbb_cells = Jupyter.notebook.get_cells();\n                for (var i = 0; i < nbb_cells.length; ++i) {\n                    if (nbb_cells[i].input_prompt_number == nbb_cell_id) {\n                        if (nbb_cells[i].get_text() == nbb_unformatted_code) {\n                             nbb_cells[i].set_text(nbb_formatted_code);\n                        }\n                        break;\n                    }\n                }\n            }, 500);\n            ",
      "text/plain": [
       "<IPython.core.display.Javascript object>"
      ]
     },
     "metadata": {},
     "output_type": "display_data"
    }
   ],
   "source": [
    "def one_hot_encoding(objs: list, df) -> pd.DataFrame:\n",
    "    encoder = OneHotEncoder()\n",
    "    one_hots = []\n",
    "    for obj in objs:\n",
    "        one_hot = encoder.fit_transform(df[obj].values.reshape(-1, 1)).toarray()\n",
    "        one_hots.append(\n",
    "            pd.DataFrame(\n",
    "                one_hot, columns=[f\"{obj}_{new}\" for new in encoder.categories_[0]]\n",
    "            )\n",
    "        )\n",
    "    return pd.concat(one_hots, axis=1)"
   ]
  },
  {
   "cell_type": "code",
   "execution_count": 47,
   "metadata": {},
   "outputs": [
    {
     "data": {
      "application/javascript": "\n            setTimeout(function() {\n                var nbb_cell_id = 47;\n                var nbb_unformatted_code = \"%%black\\n# load data\\nauto = pd.read_csv(r\\\"Automobile_Price.csv\\\")\\n\\n# drop na price\\nauto = auto.dropna(subset=[\\\"price\\\"])\\nauto_data = auto.drop([\\\"price\\\", \\\"symboling\\\", \\\"normalized-losses\\\"], axis=1)\\n\\nauto_price = auto[\\\"price\\\"]\\n\\n# impute\\n\\nimpute_df = auto_data.copy()\\nobjects = impute_df.select_dtypes(\\\"object\\\").columns.tolist()\\nimpute_df = impute_df.drop(objects, axis=1)\\nimputer = SimpleImputer(strategy=\\\"most_frequent\\\")\\nimpute_df = pd.DataFrame(imputer.fit_transform(impute_df), columns=impute_df.columns)\\n\\n# one hot encoding\\n\\nresult_one_hot = one_hot_encoding(objects, auto_data)\\nencoding_df = pd.concat([impute_df, result_one_hot], axis=1)\\n\\n\\ntarget = auto_price\\ndata = encoding_df\";\n                var nbb_formatted_code = \"%%black\\n# load data\\nauto = pd.read_csv(r\\\"Automobile_Price.csv\\\")\\n\\n# drop na price\\nauto = auto.dropna(subset=[\\\"price\\\"])\\nauto_data = auto.drop([\\\"price\\\", \\\"symboling\\\", \\\"normalized-losses\\\"], axis=1)\\n\\nauto_price = auto[\\\"price\\\"]\\n\\n# impute\\n\\nimpute_df = auto_data.copy()\\nobjects = impute_df.select_dtypes(\\\"object\\\").columns.tolist()\\nimpute_df = impute_df.drop(objects, axis=1)\\nimputer = SimpleImputer(strategy=\\\"most_frequent\\\")\\nimpute_df = pd.DataFrame(imputer.fit_transform(impute_df), columns=impute_df.columns)\\n\\n# one hot encoding\\n\\nresult_one_hot = one_hot_encoding(objects, auto_data)\\nencoding_df = pd.concat([impute_df, result_one_hot], axis=1)\\n\\n\\ntarget = auto_price\\ndata = encoding_df\";\n                var nbb_cells = Jupyter.notebook.get_cells();\n                for (var i = 0; i < nbb_cells.length; ++i) {\n                    if (nbb_cells[i].input_prompt_number == nbb_cell_id) {\n                        if (nbb_cells[i].get_text() == nbb_unformatted_code) {\n                             nbb_cells[i].set_text(nbb_formatted_code);\n                        }\n                        break;\n                    }\n                }\n            }, 500);\n            ",
      "text/plain": [
       "<IPython.core.display.Javascript object>"
      ]
     },
     "metadata": {},
     "output_type": "display_data"
    }
   ],
   "source": [
    "# load data\n",
    "auto = pd.read_csv(r\"Automobile_Price.csv\")\n",
    "\n",
    "# drop na price\n",
    "auto = auto.dropna(subset=[\"price\"])\n",
    "auto_data = auto.drop([\"price\", \"symboling\", \"normalized-losses\"], axis=1)\n",
    "\n",
    "auto_price = auto[\"price\"]\n",
    "\n",
    "# impute\n",
    "\n",
    "impute_df = auto_data.copy()\n",
    "objects = impute_df.select_dtypes(\"object\").columns.tolist()\n",
    "impute_df = impute_df.drop(objects, axis=1)\n",
    "imputer = SimpleImputer(strategy=\"most_frequent\")\n",
    "impute_df = pd.DataFrame(imputer.fit_transform(impute_df), columns=impute_df.columns)\n",
    "\n",
    "# one hot encoding\n",
    "\n",
    "result_one_hot = one_hot_encoding(objects, auto_data)\n",
    "encoding_df = pd.concat([impute_df, result_one_hot], axis=1)\n",
    "\n",
    "\n",
    "target = auto_price\n",
    "data = encoding_df"
   ]
  },
  {
   "cell_type": "code",
   "execution_count": 57,
   "metadata": {},
   "outputs": [
    {
     "data": {
      "text/plain": [
       "0    13495.0\n",
       "1    16500.0\n",
       "2    16500.0\n",
       "3    13950.0\n",
       "4    17450.0\n",
       "Name: price, dtype: float64"
      ]
     },
     "execution_count": 57,
     "metadata": {},
     "output_type": "execute_result"
    },
    {
     "data": {
      "application/javascript": "\n            setTimeout(function() {\n                var nbb_cell_id = 57;\n                var nbb_unformatted_code = \"target.head()\";\n                var nbb_formatted_code = \"target.head()\";\n                var nbb_cells = Jupyter.notebook.get_cells();\n                for (var i = 0; i < nbb_cells.length; ++i) {\n                    if (nbb_cells[i].input_prompt_number == nbb_cell_id) {\n                        if (nbb_cells[i].get_text() == nbb_unformatted_code) {\n                             nbb_cells[i].set_text(nbb_formatted_code);\n                        }\n                        break;\n                    }\n                }\n            }, 500);\n            ",
      "text/plain": [
       "<IPython.core.display.Javascript object>"
      ]
     },
     "metadata": {},
     "output_type": "display_data"
    }
   ],
   "source": [
    "target.head()"
   ]
  },
  {
   "cell_type": "code",
   "execution_count": 56,
   "metadata": {},
   "outputs": [
    {
     "data": {
      "text/html": [
       "<div>\n",
       "<style scoped>\n",
       "    .dataframe tbody tr th:only-of-type {\n",
       "        vertical-align: middle;\n",
       "    }\n",
       "\n",
       "    .dataframe tbody tr th {\n",
       "        vertical-align: top;\n",
       "    }\n",
       "\n",
       "    .dataframe thead th {\n",
       "        text-align: right;\n",
       "    }\n",
       "</style>\n",
       "<table border=\"1\" class=\"dataframe\">\n",
       "  <thead>\n",
       "    <tr style=\"text-align: right;\">\n",
       "      <th></th>\n",
       "      <th>make_alfa-romero</th>\n",
       "      <th>make_audi</th>\n",
       "      <th>make_bmw</th>\n",
       "      <th>make_chevrolet</th>\n",
       "      <th>make_dodge</th>\n",
       "      <th>make_honda</th>\n",
       "      <th>make_isuzu</th>\n",
       "      <th>make_jaguar</th>\n",
       "      <th>make_mazda</th>\n",
       "      <th>make_mercedes-benz</th>\n",
       "      <th>...</th>\n",
       "      <th>num-of-cylinders_twelve</th>\n",
       "      <th>num-of-cylinders_two</th>\n",
       "      <th>fuel-system_1bbl</th>\n",
       "      <th>fuel-system_2bbl</th>\n",
       "      <th>fuel-system_4bbl</th>\n",
       "      <th>fuel-system_idi</th>\n",
       "      <th>fuel-system_mfi</th>\n",
       "      <th>fuel-system_mpfi</th>\n",
       "      <th>fuel-system_spdi</th>\n",
       "      <th>fuel-system_spfi</th>\n",
       "    </tr>\n",
       "  </thead>\n",
       "  <tbody>\n",
       "    <tr>\n",
       "      <th>0</th>\n",
       "      <td>1.0</td>\n",
       "      <td>0.0</td>\n",
       "      <td>0.0</td>\n",
       "      <td>0.0</td>\n",
       "      <td>0.0</td>\n",
       "      <td>0.0</td>\n",
       "      <td>0.0</td>\n",
       "      <td>0.0</td>\n",
       "      <td>0.0</td>\n",
       "      <td>0.0</td>\n",
       "      <td>...</td>\n",
       "      <td>0.0</td>\n",
       "      <td>0.0</td>\n",
       "      <td>0.0</td>\n",
       "      <td>0.0</td>\n",
       "      <td>0.0</td>\n",
       "      <td>0.0</td>\n",
       "      <td>0.0</td>\n",
       "      <td>1.0</td>\n",
       "      <td>0.0</td>\n",
       "      <td>0.0</td>\n",
       "    </tr>\n",
       "    <tr>\n",
       "      <th>1</th>\n",
       "      <td>1.0</td>\n",
       "      <td>0.0</td>\n",
       "      <td>0.0</td>\n",
       "      <td>0.0</td>\n",
       "      <td>0.0</td>\n",
       "      <td>0.0</td>\n",
       "      <td>0.0</td>\n",
       "      <td>0.0</td>\n",
       "      <td>0.0</td>\n",
       "      <td>0.0</td>\n",
       "      <td>...</td>\n",
       "      <td>0.0</td>\n",
       "      <td>0.0</td>\n",
       "      <td>0.0</td>\n",
       "      <td>0.0</td>\n",
       "      <td>0.0</td>\n",
       "      <td>0.0</td>\n",
       "      <td>0.0</td>\n",
       "      <td>1.0</td>\n",
       "      <td>0.0</td>\n",
       "      <td>0.0</td>\n",
       "    </tr>\n",
       "    <tr>\n",
       "      <th>2</th>\n",
       "      <td>1.0</td>\n",
       "      <td>0.0</td>\n",
       "      <td>0.0</td>\n",
       "      <td>0.0</td>\n",
       "      <td>0.0</td>\n",
       "      <td>0.0</td>\n",
       "      <td>0.0</td>\n",
       "      <td>0.0</td>\n",
       "      <td>0.0</td>\n",
       "      <td>0.0</td>\n",
       "      <td>...</td>\n",
       "      <td>0.0</td>\n",
       "      <td>0.0</td>\n",
       "      <td>0.0</td>\n",
       "      <td>0.0</td>\n",
       "      <td>0.0</td>\n",
       "      <td>0.0</td>\n",
       "      <td>0.0</td>\n",
       "      <td>1.0</td>\n",
       "      <td>0.0</td>\n",
       "      <td>0.0</td>\n",
       "    </tr>\n",
       "    <tr>\n",
       "      <th>3</th>\n",
       "      <td>0.0</td>\n",
       "      <td>1.0</td>\n",
       "      <td>0.0</td>\n",
       "      <td>0.0</td>\n",
       "      <td>0.0</td>\n",
       "      <td>0.0</td>\n",
       "      <td>0.0</td>\n",
       "      <td>0.0</td>\n",
       "      <td>0.0</td>\n",
       "      <td>0.0</td>\n",
       "      <td>...</td>\n",
       "      <td>0.0</td>\n",
       "      <td>0.0</td>\n",
       "      <td>0.0</td>\n",
       "      <td>0.0</td>\n",
       "      <td>0.0</td>\n",
       "      <td>0.0</td>\n",
       "      <td>0.0</td>\n",
       "      <td>1.0</td>\n",
       "      <td>0.0</td>\n",
       "      <td>0.0</td>\n",
       "    </tr>\n",
       "    <tr>\n",
       "      <th>4</th>\n",
       "      <td>0.0</td>\n",
       "      <td>1.0</td>\n",
       "      <td>0.0</td>\n",
       "      <td>0.0</td>\n",
       "      <td>0.0</td>\n",
       "      <td>0.0</td>\n",
       "      <td>0.0</td>\n",
       "      <td>0.0</td>\n",
       "      <td>0.0</td>\n",
       "      <td>0.0</td>\n",
       "      <td>...</td>\n",
       "      <td>0.0</td>\n",
       "      <td>0.0</td>\n",
       "      <td>0.0</td>\n",
       "      <td>0.0</td>\n",
       "      <td>0.0</td>\n",
       "      <td>0.0</td>\n",
       "      <td>0.0</td>\n",
       "      <td>1.0</td>\n",
       "      <td>0.0</td>\n",
       "      <td>0.0</td>\n",
       "    </tr>\n",
       "  </tbody>\n",
       "</table>\n",
       "<p>5 rows × 60 columns</p>\n",
       "</div>"
      ],
      "text/plain": [
       "   make_alfa-romero  make_audi  make_bmw  make_chevrolet  make_dodge  \\\n",
       "0               1.0        0.0       0.0             0.0         0.0   \n",
       "1               1.0        0.0       0.0             0.0         0.0   \n",
       "2               1.0        0.0       0.0             0.0         0.0   \n",
       "3               0.0        1.0       0.0             0.0         0.0   \n",
       "4               0.0        1.0       0.0             0.0         0.0   \n",
       "\n",
       "   make_honda  make_isuzu  make_jaguar  make_mazda  make_mercedes-benz  ...  \\\n",
       "0         0.0         0.0          0.0         0.0                 0.0  ...   \n",
       "1         0.0         0.0          0.0         0.0                 0.0  ...   \n",
       "2         0.0         0.0          0.0         0.0                 0.0  ...   \n",
       "3         0.0         0.0          0.0         0.0                 0.0  ...   \n",
       "4         0.0         0.0          0.0         0.0                 0.0  ...   \n",
       "\n",
       "   num-of-cylinders_twelve  num-of-cylinders_two  fuel-system_1bbl  \\\n",
       "0                      0.0                   0.0               0.0   \n",
       "1                      0.0                   0.0               0.0   \n",
       "2                      0.0                   0.0               0.0   \n",
       "3                      0.0                   0.0               0.0   \n",
       "4                      0.0                   0.0               0.0   \n",
       "\n",
       "   fuel-system_2bbl  fuel-system_4bbl  fuel-system_idi  fuel-system_mfi  \\\n",
       "0               0.0               0.0              0.0              0.0   \n",
       "1               0.0               0.0              0.0              0.0   \n",
       "2               0.0               0.0              0.0              0.0   \n",
       "3               0.0               0.0              0.0              0.0   \n",
       "4               0.0               0.0              0.0              0.0   \n",
       "\n",
       "   fuel-system_mpfi  fuel-system_spdi  fuel-system_spfi  \n",
       "0               1.0               0.0               0.0  \n",
       "1               1.0               0.0               0.0  \n",
       "2               1.0               0.0               0.0  \n",
       "3               1.0               0.0               0.0  \n",
       "4               1.0               0.0               0.0  \n",
       "\n",
       "[5 rows x 60 columns]"
      ]
     },
     "execution_count": 56,
     "metadata": {},
     "output_type": "execute_result"
    },
    {
     "data": {
      "application/javascript": "\n            setTimeout(function() {\n                var nbb_cell_id = 56;\n                var nbb_unformatted_code = \"result_one_hot.head()\";\n                var nbb_formatted_code = \"result_one_hot.head()\";\n                var nbb_cells = Jupyter.notebook.get_cells();\n                for (var i = 0; i < nbb_cells.length; ++i) {\n                    if (nbb_cells[i].input_prompt_number == nbb_cell_id) {\n                        if (nbb_cells[i].get_text() == nbb_unformatted_code) {\n                             nbb_cells[i].set_text(nbb_formatted_code);\n                        }\n                        break;\n                    }\n                }\n            }, 500);\n            ",
      "text/plain": [
       "<IPython.core.display.Javascript object>"
      ]
     },
     "metadata": {},
     "output_type": "display_data"
    }
   ],
   "source": [
    "result_one_hot.head()"
   ]
  },
  {
   "cell_type": "code",
   "execution_count": 60,
   "metadata": {},
   "outputs": [
    {
     "name": "stdout",
     "output_type": "stream",
     "text": [
      "r2=0.83, mae=1910.80, mse=8292242.01, rmse=2879.63,mape=0.17\n"
     ]
    },
    {
     "data": {
      "application/javascript": "\n            setTimeout(function() {\n                var nbb_cell_id = 60;\n                var nbb_unformatted_code = \"# train test split\\nX_train, X_test, y_train, y_test = train_test_split(\\n    data, target, test_size=0.3, random_state=2022\\n)\\nlr = LinearRegression()\\nlr.fit(X_train, y_train)\\npredict = lr.predict(X_test)\\nr2 = lr.score(X_test, y_test)\\nmae = mean_absolute_error(y_test, predict)\\nmse = mean_squared_error(y_test, predict)\\nrmse = mean_squared_error(y_test, predict, squared=False)\\nmape = mean_absolute_percentage_error(y_test,predict)\\nprint(f\\\"{r2=:.2f}, {mae=:.2f}, {mse=:.2f}, {rmse=:.2f},{mape=:.2f}\\\")\";\n                var nbb_formatted_code = \"# train test split\\nX_train, X_test, y_train, y_test = train_test_split(\\n    data, target, test_size=0.3, random_state=2022\\n)\\nlr = LinearRegression()\\nlr.fit(X_train, y_train)\\npredict = lr.predict(X_test)\\nr2 = lr.score(X_test, y_test)\\nmae = mean_absolute_error(y_test, predict)\\nmse = mean_squared_error(y_test, predict)\\nrmse = mean_squared_error(y_test, predict, squared=False)\\nmape = mean_absolute_percentage_error(y_test, predict)\\nprint(f\\\"{r2=:.2f}, {mae=:.2f}, {mse=:.2f}, {rmse=:.2f},{mape=:.2f}\\\")\";\n                var nbb_cells = Jupyter.notebook.get_cells();\n                for (var i = 0; i < nbb_cells.length; ++i) {\n                    if (nbb_cells[i].input_prompt_number == nbb_cell_id) {\n                        if (nbb_cells[i].get_text() == nbb_unformatted_code) {\n                             nbb_cells[i].set_text(nbb_formatted_code);\n                        }\n                        break;\n                    }\n                }\n            }, 500);\n            ",
      "text/plain": [
       "<IPython.core.display.Javascript object>"
      ]
     },
     "metadata": {},
     "output_type": "display_data"
    }
   ],
   "source": [
    "# train test split\n",
    "X_train, X_test, y_train, y_test = train_test_split(\n",
    "    data, target, test_size=0.3, random_state=2022\n",
    ")\n",
    "lr = LinearRegression()\n",
    "lr.fit(X_train, y_train)\n",
    "predict = lr.predict(X_test)\n",
    "r2 = lr.score(X_test, y_test)\n",
    "mae = mean_absolute_error(y_test, predict)\n",
    "mse = mean_squared_error(y_test, predict)\n",
    "rmse = mean_squared_error(y_test, predict, squared=False)\n",
    "mape = mean_absolute_percentage_error(y_test,predict)\n",
    "print(f\"{r2=:.2f}, {mae=:.2f}, {mse=:.2f}, {rmse=:.2f},{mape=:.2f}\")"
   ]
  },
  {
   "cell_type": "code",
   "execution_count": 64,
   "metadata": {},
   "outputs": [
    {
     "ename": "InvalidIndexError",
     "evalue": "(slice(None, None, None), array([ 23,  24,  25,  26,  27,  28,  29,  30,  31,  32,  33,  34,  35,\n        36,  37,  38,  39,  40,  41,  42,  43,  44,  45,  46,  47,  48,\n        49,  50,  51,  52,  53,  54,  55,  56,  57,  58,  59,  60,  61,\n        62,  63,  64,  65,  66,  67,  68,  69,  70,  71,  72,  73,  74,\n        75,  76,  77,  78,  79,  80,  81,  82,  83,  84,  85,  86,  87,\n        88,  89,  90,  91,  92,  93,  94,  95,  96,  97,  98,  99, 100,\n       101, 102, 103, 104, 105, 106, 107, 108, 109, 110, 111, 112, 113,\n       114, 115, 116, 117, 118, 119, 120, 121, 122, 123, 124, 125, 126,\n       127, 128, 129, 130, 131, 132, 133, 134, 135, 136, 137, 138, 139,\n       140, 141, 142, 143, 144, 145, 146, 147, 148, 149, 150, 151, 152,\n       153, 154, 155, 156, 157, 158, 159, 160, 161, 162, 163, 164, 165,\n       166, 167, 168, 169, 170, 171, 172, 173, 174, 175, 176, 177, 178,\n       179, 180, 181, 182, 183, 184, 185, 186, 187, 188, 189, 190, 191,\n       192, 193, 194, 195, 196, 197, 198, 199, 200]))",
     "output_type": "error",
     "traceback": [
      "\u001b[0;31m---------------------------------------------------------------------------\u001b[0m",
      "\u001b[0;31mTypeError\u001b[0m                                 Traceback (most recent call last)",
      "File \u001b[0;32m/opt/homebrew/Caskroom/miniforge/base/envs/sklearn/lib/python3.10/site-packages/pandas/core/indexes/base.py:3621\u001b[0m, in \u001b[0;36mIndex.get_loc\u001b[0;34m(self, key, method, tolerance)\u001b[0m\n\u001b[1;32m   <a href='file:///opt/homebrew/Caskroom/miniforge/base/envs/sklearn/lib/python3.10/site-packages/pandas/core/indexes/base.py?line=3619'>3620</a>\u001b[0m \u001b[39mtry\u001b[39;00m:\n\u001b[0;32m-> <a href='file:///opt/homebrew/Caskroom/miniforge/base/envs/sklearn/lib/python3.10/site-packages/pandas/core/indexes/base.py?line=3620'>3621</a>\u001b[0m     \u001b[39mreturn\u001b[39;00m \u001b[39mself\u001b[39;49m\u001b[39m.\u001b[39;49m_engine\u001b[39m.\u001b[39;49mget_loc(casted_key)\n\u001b[1;32m   <a href='file:///opt/homebrew/Caskroom/miniforge/base/envs/sklearn/lib/python3.10/site-packages/pandas/core/indexes/base.py?line=3621'>3622</a>\u001b[0m \u001b[39mexcept\u001b[39;00m \u001b[39mKeyError\u001b[39;00m \u001b[39mas\u001b[39;00m err:\n",
      "File \u001b[0;32m/opt/homebrew/Caskroom/miniforge/base/envs/sklearn/lib/python3.10/site-packages/pandas/_libs/index.pyx:136\u001b[0m, in \u001b[0;36mpandas._libs.index.IndexEngine.get_loc\u001b[0;34m()\u001b[0m\n",
      "File \u001b[0;32m/opt/homebrew/Caskroom/miniforge/base/envs/sklearn/lib/python3.10/site-packages/pandas/_libs/index.pyx:142\u001b[0m, in \u001b[0;36mpandas._libs.index.IndexEngine.get_loc\u001b[0;34m()\u001b[0m\n",
      "\u001b[0;31mTypeError\u001b[0m: '(slice(None, None, None), array([ 23,  24,  25,  26,  27,  28,  29,  30,  31,  32,  33,  34,  35,\n        36,  37,  38,  39,  40,  41,  42,  43,  44,  45,  46,  47,  48,\n        49,  50,  51,  52,  53,  54,  55,  56,  57,  58,  59,  60,  61,\n        62,  63,  64,  65,  66,  67,  68,  69,  70,  71,  72,  73,  74,\n        75,  76,  77,  78,  79,  80,  81,  82,  83,  84,  85,  86,  87,\n        88,  89,  90,  91,  92,  93,  94,  95,  96,  97,  98,  99, 100,\n       101, 102, 103, 104, 105, 106, 107, 108, 109, 110, 111, 112, 113,\n       114, 115, 116, 117, 118, 119, 120, 121, 122, 123, 124, 125, 126,\n       127, 128, 129, 130, 131, 132, 133, 134, 135, 136, 137, 138, 139,\n       140, 141, 142, 143, 144, 145, 146, 147, 148, 149, 150, 151, 152,\n       153, 154, 155, 156, 157, 158, 159, 160, 161, 162, 163, 164, 165,\n       166, 167, 168, 169, 170, 171, 172, 173, 174, 175, 176, 177, 178,\n       179, 180, 181, 182, 183, 184, 185, 186, 187, 188, 189, 190, 191,\n       192, 193, 194, 195, 196, 197, 198, 199, 200]))' is an invalid key",
      "\nDuring handling of the above exception, another exception occurred:\n",
      "\u001b[0;31mInvalidIndexError\u001b[0m                         Traceback (most recent call last)",
      "\u001b[1;32m/Users/sungmukkang/Documents/coding/python_study/ml/sklearn_test/auto_price_prediction.ipynb Cell 8'\u001b[0m in \u001b[0;36m<module>\u001b[0;34m\u001b[0m\n\u001b[1;32m      <a href='vscode-notebook-cell:/Users/sungmukkang/Documents/coding/python_study/ml/sklearn_test/auto_price_prediction.ipynb#ch0000002?line=6'>7</a>\u001b[0m rmse_list\u001b[39m=\u001b[39m[]\n\u001b[1;32m      <a href='vscode-notebook-cell:/Users/sungmukkang/Documents/coding/python_study/ml/sklearn_test/auto_price_prediction.ipynb#ch0000002?line=8'>9</a>\u001b[0m \u001b[39mfor\u001b[39;00m train_idx,test_idx \u001b[39min\u001b[39;00m kfold\u001b[39m.\u001b[39msplit(data):\n\u001b[0;32m---> <a href='vscode-notebook-cell:/Users/sungmukkang/Documents/coding/python_study/ml/sklearn_test/auto_price_prediction.ipynb#ch0000002?line=10'>11</a>\u001b[0m     X_train,X_test \u001b[39m=\u001b[39m data[:,train_idx],data[:,test_idx]\n\u001b[1;32m     <a href='vscode-notebook-cell:/Users/sungmukkang/Documents/coding/python_study/ml/sklearn_test/auto_price_prediction.ipynb#ch0000002?line=11'>12</a>\u001b[0m     y_train,y_test \u001b[39m=\u001b[39m target\u001b[39m.\u001b[39miloc[train_idx\u001b[39m.\u001b[39mtolist()],target\u001b[39m.\u001b[39miloc[test_idx\u001b[39m.\u001b[39mtolist()]\n\u001b[1;32m     <a href='vscode-notebook-cell:/Users/sungmukkang/Documents/coding/python_study/ml/sklearn_test/auto_price_prediction.ipynb#ch0000002?line=13'>14</a>\u001b[0m     lr\u001b[39m.\u001b[39mfit(X_train,y_train)\n",
      "File \u001b[0;32m/opt/homebrew/Caskroom/miniforge/base/envs/sklearn/lib/python3.10/site-packages/pandas/core/frame.py:3505\u001b[0m, in \u001b[0;36mDataFrame.__getitem__\u001b[0;34m(self, key)\u001b[0m\n\u001b[1;32m   <a href='file:///opt/homebrew/Caskroom/miniforge/base/envs/sklearn/lib/python3.10/site-packages/pandas/core/frame.py?line=3502'>3503</a>\u001b[0m \u001b[39mif\u001b[39;00m \u001b[39mself\u001b[39m\u001b[39m.\u001b[39mcolumns\u001b[39m.\u001b[39mnlevels \u001b[39m>\u001b[39m \u001b[39m1\u001b[39m:\n\u001b[1;32m   <a href='file:///opt/homebrew/Caskroom/miniforge/base/envs/sklearn/lib/python3.10/site-packages/pandas/core/frame.py?line=3503'>3504</a>\u001b[0m     \u001b[39mreturn\u001b[39;00m \u001b[39mself\u001b[39m\u001b[39m.\u001b[39m_getitem_multilevel(key)\n\u001b[0;32m-> <a href='file:///opt/homebrew/Caskroom/miniforge/base/envs/sklearn/lib/python3.10/site-packages/pandas/core/frame.py?line=3504'>3505</a>\u001b[0m indexer \u001b[39m=\u001b[39m \u001b[39mself\u001b[39;49m\u001b[39m.\u001b[39;49mcolumns\u001b[39m.\u001b[39;49mget_loc(key)\n\u001b[1;32m   <a href='file:///opt/homebrew/Caskroom/miniforge/base/envs/sklearn/lib/python3.10/site-packages/pandas/core/frame.py?line=3505'>3506</a>\u001b[0m \u001b[39mif\u001b[39;00m is_integer(indexer):\n\u001b[1;32m   <a href='file:///opt/homebrew/Caskroom/miniforge/base/envs/sklearn/lib/python3.10/site-packages/pandas/core/frame.py?line=3506'>3507</a>\u001b[0m     indexer \u001b[39m=\u001b[39m [indexer]\n",
      "File \u001b[0;32m/opt/homebrew/Caskroom/miniforge/base/envs/sklearn/lib/python3.10/site-packages/pandas/core/indexes/base.py:3628\u001b[0m, in \u001b[0;36mIndex.get_loc\u001b[0;34m(self, key, method, tolerance)\u001b[0m\n\u001b[1;32m   <a href='file:///opt/homebrew/Caskroom/miniforge/base/envs/sklearn/lib/python3.10/site-packages/pandas/core/indexes/base.py?line=3622'>3623</a>\u001b[0m         \u001b[39mraise\u001b[39;00m \u001b[39mKeyError\u001b[39;00m(key) \u001b[39mfrom\u001b[39;00m \u001b[39merr\u001b[39;00m\n\u001b[1;32m   <a href='file:///opt/homebrew/Caskroom/miniforge/base/envs/sklearn/lib/python3.10/site-packages/pandas/core/indexes/base.py?line=3623'>3624</a>\u001b[0m     \u001b[39mexcept\u001b[39;00m \u001b[39mTypeError\u001b[39;00m:\n\u001b[1;32m   <a href='file:///opt/homebrew/Caskroom/miniforge/base/envs/sklearn/lib/python3.10/site-packages/pandas/core/indexes/base.py?line=3624'>3625</a>\u001b[0m         \u001b[39m# If we have a listlike key, _check_indexing_error will raise\u001b[39;00m\n\u001b[1;32m   <a href='file:///opt/homebrew/Caskroom/miniforge/base/envs/sklearn/lib/python3.10/site-packages/pandas/core/indexes/base.py?line=3625'>3626</a>\u001b[0m         \u001b[39m#  InvalidIndexError. Otherwise we fall through and re-raise\u001b[39;00m\n\u001b[1;32m   <a href='file:///opt/homebrew/Caskroom/miniforge/base/envs/sklearn/lib/python3.10/site-packages/pandas/core/indexes/base.py?line=3626'>3627</a>\u001b[0m         \u001b[39m#  the TypeError.\u001b[39;00m\n\u001b[0;32m-> <a href='file:///opt/homebrew/Caskroom/miniforge/base/envs/sklearn/lib/python3.10/site-packages/pandas/core/indexes/base.py?line=3627'>3628</a>\u001b[0m         \u001b[39mself\u001b[39;49m\u001b[39m.\u001b[39;49m_check_indexing_error(key)\n\u001b[1;32m   <a href='file:///opt/homebrew/Caskroom/miniforge/base/envs/sklearn/lib/python3.10/site-packages/pandas/core/indexes/base.py?line=3628'>3629</a>\u001b[0m         \u001b[39mraise\u001b[39;00m\n\u001b[1;32m   <a href='file:///opt/homebrew/Caskroom/miniforge/base/envs/sklearn/lib/python3.10/site-packages/pandas/core/indexes/base.py?line=3630'>3631</a>\u001b[0m \u001b[39m# GH#42269\u001b[39;00m\n",
      "File \u001b[0;32m/opt/homebrew/Caskroom/miniforge/base/envs/sklearn/lib/python3.10/site-packages/pandas/core/indexes/base.py:5637\u001b[0m, in \u001b[0;36mIndex._check_indexing_error\u001b[0;34m(self, key)\u001b[0m\n\u001b[1;32m   <a href='file:///opt/homebrew/Caskroom/miniforge/base/envs/sklearn/lib/python3.10/site-packages/pandas/core/indexes/base.py?line=5632'>5633</a>\u001b[0m \u001b[39mdef\u001b[39;00m \u001b[39m_check_indexing_error\u001b[39m(\u001b[39mself\u001b[39m, key):\n\u001b[1;32m   <a href='file:///opt/homebrew/Caskroom/miniforge/base/envs/sklearn/lib/python3.10/site-packages/pandas/core/indexes/base.py?line=5633'>5634</a>\u001b[0m     \u001b[39mif\u001b[39;00m \u001b[39mnot\u001b[39;00m is_scalar(key):\n\u001b[1;32m   <a href='file:///opt/homebrew/Caskroom/miniforge/base/envs/sklearn/lib/python3.10/site-packages/pandas/core/indexes/base.py?line=5634'>5635</a>\u001b[0m         \u001b[39m# if key is not a scalar, directly raise an error (the code below\u001b[39;00m\n\u001b[1;32m   <a href='file:///opt/homebrew/Caskroom/miniforge/base/envs/sklearn/lib/python3.10/site-packages/pandas/core/indexes/base.py?line=5635'>5636</a>\u001b[0m         \u001b[39m# would convert to numpy arrays and raise later any way) - GH29926\u001b[39;00m\n\u001b[0;32m-> <a href='file:///opt/homebrew/Caskroom/miniforge/base/envs/sklearn/lib/python3.10/site-packages/pandas/core/indexes/base.py?line=5636'>5637</a>\u001b[0m         \u001b[39mraise\u001b[39;00m InvalidIndexError(key)\n",
      "\u001b[0;31mInvalidIndexError\u001b[0m: (slice(None, None, None), array([ 23,  24,  25,  26,  27,  28,  29,  30,  31,  32,  33,  34,  35,\n        36,  37,  38,  39,  40,  41,  42,  43,  44,  45,  46,  47,  48,\n        49,  50,  51,  52,  53,  54,  55,  56,  57,  58,  59,  60,  61,\n        62,  63,  64,  65,  66,  67,  68,  69,  70,  71,  72,  73,  74,\n        75,  76,  77,  78,  79,  80,  81,  82,  83,  84,  85,  86,  87,\n        88,  89,  90,  91,  92,  93,  94,  95,  96,  97,  98,  99, 100,\n       101, 102, 103, 104, 105, 106, 107, 108, 109, 110, 111, 112, 113,\n       114, 115, 116, 117, 118, 119, 120, 121, 122, 123, 124, 125, 126,\n       127, 128, 129, 130, 131, 132, 133, 134, 135, 136, 137, 138, 139,\n       140, 141, 142, 143, 144, 145, 146, 147, 148, 149, 150, 151, 152,\n       153, 154, 155, 156, 157, 158, 159, 160, 161, 162, 163, 164, 165,\n       166, 167, 168, 169, 170, 171, 172, 173, 174, 175, 176, 177, 178,\n       179, 180, 181, 182, 183, 184, 185, 186, 187, 188, 189, 190, 191,\n       192, 193, 194, 195, 196, 197, 198, 199, 200]))"
     ]
    },
    {
     "data": {
      "application/javascript": "\n            setTimeout(function() {\n                var nbb_cell_id = 64;\n                var nbb_unformatted_code = \"# k fold\\nkfold = KFold(n_splits=9)\\n\\nr2_list=[]\\nmae_list=[]\\nmse_list=[]\\nrmse_list=[]\\n\\nfor train_idx,test_idx in kfold.split(data):\\n\\n    X_train,X_test = data[:,train_idx],data[:,test_idx]\\n    y_train,y_test = target.iloc[train_idx.tolist()],target.iloc[test_idx.tolist()]\\n    \\n    lr.fit(X_train,y_train)\\n    r2_list.append(lr.score(X_test,y_test))\\n    predict = lr.predict(X_test)\\n    mae_list.append( mean_absolute_error(y_test,predict))\\n    mse_list.append( mean_squared_error(y_test,predict))\\n    rmse_list.append (mean_squared_error(y_test,predict,squared=False))\\n\\nprint(f'{r2_list=}\\\\n{mae_list=}\\\\n{mse_list=}\\\\n{rmse_list=}\\\\n')\\nprint(f'r2: {np.mean(r2_list):.2f}')\\nprint(f'mae: {np.mean(mae_list):.2f}')\\nprint(f'mse: {np.mean(mse_list):.2f}')\\nprint(f'rmse: {np.mean(rmse_list):.2f}')\";\n                var nbb_formatted_code = \"# k fold\\nkfold = KFold(n_splits=9)\\n\\nr2_list = []\\nmae_list = []\\nmse_list = []\\nrmse_list = []\\n\\nfor train_idx, test_idx in kfold.split(data):\\n\\n    X_train, X_test = data[:, train_idx], data[:, test_idx]\\n    y_train, y_test = target.iloc[train_idx.tolist()], target.iloc[test_idx.tolist()]\\n\\n    lr.fit(X_train, y_train)\\n    r2_list.append(lr.score(X_test, y_test))\\n    predict = lr.predict(X_test)\\n    mae_list.append(mean_absolute_error(y_test, predict))\\n    mse_list.append(mean_squared_error(y_test, predict))\\n    rmse_list.append(mean_squared_error(y_test, predict, squared=False))\\n\\nprint(f\\\"{r2_list=}\\\\n{mae_list=}\\\\n{mse_list=}\\\\n{rmse_list=}\\\\n\\\")\\nprint(f\\\"r2: {np.mean(r2_list):.2f}\\\")\\nprint(f\\\"mae: {np.mean(mae_list):.2f}\\\")\\nprint(f\\\"mse: {np.mean(mse_list):.2f}\\\")\\nprint(f\\\"rmse: {np.mean(rmse_list):.2f}\\\")\";\n                var nbb_cells = Jupyter.notebook.get_cells();\n                for (var i = 0; i < nbb_cells.length; ++i) {\n                    if (nbb_cells[i].input_prompt_number == nbb_cell_id) {\n                        if (nbb_cells[i].get_text() == nbb_unformatted_code) {\n                             nbb_cells[i].set_text(nbb_formatted_code);\n                        }\n                        break;\n                    }\n                }\n            }, 500);\n            ",
      "text/plain": [
       "<IPython.core.display.Javascript object>"
      ]
     },
     "metadata": {},
     "output_type": "display_data"
    }
   ],
   "source": [
    "# k fold\n",
    "kfold = KFold(n_splits=9)\n",
    "\n",
    "r2_list=[]\n",
    "mae_list=[]\n",
    "mse_list=[]\n",
    "rmse_list=[]\n",
    "\n",
    "for train_idx,test_idx in kfold.split(data):\n",
    "\n",
    "    X_train,X_test = data.iloc[train_idx.tolist()],data.iloc[test_idx.tolist()]\n",
    "    y_train,y_test = target.iloc[train_idx.tolist()],target.iloc[test_idx.tolist()]\n",
    "    \n",
    "    lr.fit(X_train,y_train)\n",
    "    r2_list.append(lr.score(X_test,y_test))\n",
    "    predict = lr.predict(X_test)\n",
    "    mae_list.append( mean_absolute_error(y_test,predict))\n",
    "    mse_list.append( mean_squared_error(y_test,predict))\n",
    "    rmse_list.append (mean_squared_error(y_test,predict,squared=False))\n",
    "\n",
    "print(f'{r2_list=}\\n{mae_list=}\\n{mse_list=}\\n{rmse_list=}\\n')\n",
    "print(f'r2: {np.mean(r2_list):.2f}')\n",
    "print(f'mae: {np.mean(mae_list):.2f}')\n",
    "print(f'mse: {np.mean(mse_list):.2f}')\n",
    "print(f'rmse: {np.mean(rmse_list):.2f}')"
   ]
  },
  {
   "cell_type": "code",
   "execution_count": 62,
   "metadata": {},
   "outputs": [
    {
     "name": "stdout",
     "output_type": "stream",
     "text": [
      "{'fit_time': array([0.00383425, 0.00562978, 0.00580907, 0.00251508, 0.00229192,\n",
      "       0.0027411 , 0.00405216, 0.00441504, 0.00219607]), 'score_time': array([0.001513  , 0.00126624, 0.00117803, 0.00112796, 0.00082421,\n",
      "       0.00076485, 0.00102401, 0.00081205, 0.00087094]), 'test_r2': array([ 0.39179198,  0.88224457,  0.85087949,  0.88987078,  0.42503427,\n",
      "        0.3707909 , -1.13810271, -1.99874464,  0.77839601]), 'test_neg_mean_absolute_error': array([-5174.79303631, -2139.7950191 , -3187.64839808, -3049.15006604,\n",
      "       -2473.8335743 , -5333.09185802, -1962.86467488, -4040.5771787 ,\n",
      "       -1732.31469931]), 'test_neg_mean_squared_error': array([-53620277.46103159,  -6597879.04707342, -13628662.54807381,\n",
      "       -14141664.95270403,  -8551009.0324353 , -51494406.38986761,\n",
      "        -5088453.04524283, -27452901.84282067,  -4924519.5637013 ]), 'test_neg_root_mean_squared_error': array([-7322.58680119, -2568.63369266, -3691.70184983, -3760.54051337,\n",
      "       -2924.21083926, -7175.96031134, -2255.75997066, -5239.55168338,\n",
      "       -2219.12585576])}\n",
      "r2: 0.16\n",
      "mae: 3232.67\n",
      "mse: 20611085.99\n",
      "rmse: 4128.67\n"
     ]
    },
    {
     "data": {
      "application/javascript": "\n            setTimeout(function() {\n                var nbb_cell_id = 62;\n                var nbb_unformatted_code = \"# cross validate\\n\\nscore = cross_validate(\\n    lr,\\n    data,\\n    target,\\n    cv=9,\\n    scoring=[\\n        \\\"r2\\\",\\n        \\\"neg_mean_absolute_error\\\",\\n        \\\"neg_mean_squared_error\\\",\\n        \\\"neg_root_mean_squared_error\\\",\\n    ],\\n)\\nprint(score)\\nprint(f'r2: {abs(score.get(\\\"test_r2\\\").mean()):.2f}')\\nprint(f'mae: {abs(score.get(\\\"test_neg_mean_absolute_error\\\").mean()):.2f}')\\nprint(f'mse: {abs(score.get(\\\"test_neg_mean_squared_error\\\").mean()):.2f}')\\nprint(f'rmse: {abs(score.get(\\\"test_neg_root_mean_squared_error\\\").mean()):.2f}')\";\n                var nbb_formatted_code = \"# cross validate\\n\\nscore = cross_validate(\\n    lr,\\n    data,\\n    target,\\n    cv=9,\\n    scoring=[\\n        \\\"r2\\\",\\n        \\\"neg_mean_absolute_error\\\",\\n        \\\"neg_mean_squared_error\\\",\\n        \\\"neg_root_mean_squared_error\\\",\\n    ],\\n)\\nprint(score)\\nprint(f'r2: {abs(score.get(\\\"test_r2\\\").mean()):.2f}')\\nprint(f'mae: {abs(score.get(\\\"test_neg_mean_absolute_error\\\").mean()):.2f}')\\nprint(f'mse: {abs(score.get(\\\"test_neg_mean_squared_error\\\").mean()):.2f}')\\nprint(f'rmse: {abs(score.get(\\\"test_neg_root_mean_squared_error\\\").mean()):.2f}')\";\n                var nbb_cells = Jupyter.notebook.get_cells();\n                for (var i = 0; i < nbb_cells.length; ++i) {\n                    if (nbb_cells[i].input_prompt_number == nbb_cell_id) {\n                        if (nbb_cells[i].get_text() == nbb_unformatted_code) {\n                             nbb_cells[i].set_text(nbb_formatted_code);\n                        }\n                        break;\n                    }\n                }\n            }, 500);\n            ",
      "text/plain": [
       "<IPython.core.display.Javascript object>"
      ]
     },
     "metadata": {},
     "output_type": "display_data"
    }
   ],
   "source": [
    "# cross validate\n",
    "\n",
    "score = cross_validate(\n",
    "    lr,\n",
    "    data,\n",
    "    target,\n",
    "    cv=9,\n",
    "    scoring=[\n",
    "        \"r2\",\n",
    "        \"neg_mean_absolute_error\",\n",
    "        \"neg_mean_squared_error\",\n",
    "        \"neg_root_mean_squared_error\",\n",
    "    ],\n",
    ")\n",
    "print(score)\n",
    "print(f'r2: {abs(score.get(\"test_r2\").mean()):.2f}')\n",
    "print(f'mae: {abs(score.get(\"test_neg_mean_absolute_error\").mean()):.2f}')\n",
    "print(f'mse: {abs(score.get(\"test_neg_mean_squared_error\").mean()):.2f}')\n",
    "print(f'rmse: {abs(score.get(\"test_neg_root_mean_squared_error\").mean()):.2f}')"
   ]
  },
  {
   "cell_type": "code",
   "execution_count": 48,
   "metadata": {},
   "outputs": [
    {
     "name": "stderr",
     "output_type": "stream",
     "text": [
      "/var/folders/61/f3xnht9d2mg0ncd3k019b9j80000gn/T/ipykernel_29958/3724788345.py:5: DeprecationWarning: `np.str` is a deprecated alias for the builtin `str`. To silence this warning, use `str` by itself. Doing this will not modify any behavior and is safe. If you specifically wanted the numpy scalar type, use `np.str_` here.\n",
      "Deprecated in NumPy 1.20; for more details and guidance: https://numpy.org/devdocs/release/1.20.0-notes.html#deprecations\n",
      "  np.str, np.object\n",
      "/var/folders/61/f3xnht9d2mg0ncd3k019b9j80000gn/T/ipykernel_29958/3724788345.py:5: DeprecationWarning: `np.object` is a deprecated alias for the builtin `object`. To silence this warning, use `object` by itself. Doing this will not modify any behavior and is safe. \n",
      "Deprecated in NumPy 1.20; for more details and guidance: https://numpy.org/devdocs/release/1.20.0-notes.html#deprecations\n",
      "  np.str, np.object\n"
     ]
    },
    {
     "data": {
      "application/javascript": "\n            setTimeout(function() {\n                var nbb_cell_id = 48;\n                var nbb_unformatted_code = \"import numpy as np\\n\\nCATEGORY_TYPE = [\\n    str, object,\\n    np.str, np.object\\n]\\nBOOLEAN_TYPE = [\\n    bool,\\n    np.bool_,\\n]\\nNUMBER_TYPE = [\\n    int, float,\\n    np.uint8, np.uint16, np.uint32, np.uint64,\\n    np.int_, np.int64, np.int32, np.int16, np.int8,\\n    np.float_, np.float64, np.float32, np.float16\\n]\\nCOMPLEX_TYPE = [\\n    complex,\\n    np.complex_, np.complex64, np.complex128\\n]\\nNULL_TYPE = [\\n    None,\\n    np.nan\\n]\\n\\nMETRIC_TYPES = {\\n    \\\"regression\\\": [\\\"mae\\\", \\\"rmse\\\", \\\"ndcg\\\", \\\"mape\\\", \\\"mse\\\", \\\"cod\\\"],\\n    \\\"classification\\\": [\\\"f1\\\", \\\"auc\\\", \\\"recall\\\", \\\"accuracy\\\", \\\"precision\\\"],\\n    \\\"recommendation\\\": [\\\"mae\\\", \\\"rmse\\\", \\\"ndcg\\\", \\\"mape\\\", \\\"mse\\\", \\\"cod\\\"]\\n}\\n\\nTRAIN_CONSTANCE = {\\n    \\\"coverage\\\": \\\"FULL\\\",\\n    \\\"sampling\\\": \\\"STD\\\",\\n    \\\"algorithm\\\": \\\"autoML\\\",\\n    \\\"ratio\\\": 0.3,\\n    \\\"type\\\": \\\"regression\\\"\\n}\";\n                var nbb_formatted_code = \"import numpy as np\\n\\nCATEGORY_TYPE = [str, object, np.str, np.object]\\nBOOLEAN_TYPE = [\\n    bool,\\n    np.bool_,\\n]\\nNUMBER_TYPE = [\\n    int,\\n    float,\\n    np.uint8,\\n    np.uint16,\\n    np.uint32,\\n    np.uint64,\\n    np.int_,\\n    np.int64,\\n    np.int32,\\n    np.int16,\\n    np.int8,\\n    np.float_,\\n    np.float64,\\n    np.float32,\\n    np.float16,\\n]\\nCOMPLEX_TYPE = [complex, np.complex_, np.complex64, np.complex128]\\nNULL_TYPE = [None, np.nan]\\n\\nMETRIC_TYPES = {\\n    \\\"regression\\\": [\\\"mae\\\", \\\"rmse\\\", \\\"ndcg\\\", \\\"mape\\\", \\\"mse\\\", \\\"cod\\\"],\\n    \\\"classification\\\": [\\\"f1\\\", \\\"auc\\\", \\\"recall\\\", \\\"accuracy\\\", \\\"precision\\\"],\\n    \\\"recommendation\\\": [\\\"mae\\\", \\\"rmse\\\", \\\"ndcg\\\", \\\"mape\\\", \\\"mse\\\", \\\"cod\\\"],\\n}\\n\\nTRAIN_CONSTANCE = {\\n    \\\"coverage\\\": \\\"FULL\\\",\\n    \\\"sampling\\\": \\\"STD\\\",\\n    \\\"algorithm\\\": \\\"autoML\\\",\\n    \\\"ratio\\\": 0.3,\\n    \\\"type\\\": \\\"regression\\\",\\n}\";\n                var nbb_cells = Jupyter.notebook.get_cells();\n                for (var i = 0; i < nbb_cells.length; ++i) {\n                    if (nbb_cells[i].input_prompt_number == nbb_cell_id) {\n                        if (nbb_cells[i].get_text() == nbb_unformatted_code) {\n                             nbb_cells[i].set_text(nbb_formatted_code);\n                        }\n                        break;\n                    }\n                }\n            }, 500);\n            ",
      "text/plain": [
       "<IPython.core.display.Javascript object>"
      ]
     },
     "metadata": {},
     "output_type": "display_data"
    }
   ],
   "source": [
    "import numpy as np\n",
    "\n",
    "CATEGORY_TYPE = [\n",
    "    str, object,\n",
    "    np.str, np.object\n",
    "]\n",
    "BOOLEAN_TYPE = [\n",
    "    bool,\n",
    "    np.bool_,\n",
    "]\n",
    "NUMBER_TYPE = [\n",
    "    int, float,\n",
    "    np.uint8, np.uint16, np.uint32, np.uint64,\n",
    "    np.int_, np.int64, np.int32, np.int16, np.int8,\n",
    "    np.float_, np.float64, np.float32, np.float16\n",
    "]\n",
    "COMPLEX_TYPE = [\n",
    "    complex,\n",
    "    np.complex_, np.complex64, np.complex128\n",
    "]\n",
    "NULL_TYPE = [\n",
    "    None,\n",
    "    np.nan\n",
    "]\n",
    "\n",
    "METRIC_TYPES = {\n",
    "    \"regression\": [\"mae\", \"rmse\", \"ndcg\", \"mape\", \"mse\", \"cod\"],\n",
    "    \"classification\": [\"f1\", \"auc\", \"recall\", \"accuracy\", \"precision\"],\n",
    "    \"recommendation\": [\"mae\", \"rmse\", \"ndcg\", \"mape\", \"mse\", \"cod\"]\n",
    "}\n",
    "\n",
    "TRAIN_CONSTANCE = {\n",
    "    \"coverage\": \"FULL\",\n",
    "    \"sampling\": \"STD\",\n",
    "    \"algorithm\": \"autoML\",\n",
    "    \"ratio\": 0.3,\n",
    "    \"type\": \"regression\"\n",
    "}"
   ]
  },
  {
   "cell_type": "code",
   "execution_count": 49,
   "metadata": {},
   "outputs": [
    {
     "data": {
      "application/javascript": "\n            setTimeout(function() {\n                var nbb_cell_id = 49;\n                var nbb_unformatted_code = \"\\nfrom typing import Tuple\\n\\ndef feature_extract(df: pd.DataFrame) -> Tuple[dict, dict]:\\n    dataset_formats, missing_rates = {}, {}\\n    for col_name in df:\\n        if df[col_name].dtype in COMPLEX_TYPE:\\n            raise ValueError(\\\"Not support Imaginary Number\\\")\\n        elif df[col_name].dtype in BOOLEAN_TYPE:\\n            dataset_formats[col_name] = \\\"T/F\\\"\\n        elif df[col_name].dtype in NUMBER_TYPE:\\n            dataset_formats[col_name] = \\\"NUMBER\\\"\\n        elif df[col_name].dtype in CATEGORY_TYPE:\\n            switch = True\\n            for data in df[col_name]:\\n                if type(data) in NULL_TYPE or pd.isna(data):\\n                    continue\\n                elif type(data) in NUMBER_TYPE:\\n                    switch = False\\n                    dataset_formats[col_name] = \\\"\\ubd88\\uc77c\\uce58\\\"\\n                    break\\n            if switch:\\n                dataset_formats[col_name] = \\\"STRING\\\"\\n        elif df[col_name].dtype in NULL_TYPE:\\n            dataset_formats[col_name] = \\\"\\ube48 \\uceec\\ub7fc\\\"\\n    row_count = df.shape[0]\\n    if row_count == 0:\\n        missing_rates = {col: 0.0 for col in df}\\n    else:\\n        for col_name in df:\\n            miss_count = df[col_name].isna().sum()\\n            missing_rates[col_name] = miss_count / row_count\\n    return dataset_formats, missing_rates\";\n                var nbb_formatted_code = \"from typing import Tuple\\n\\n\\ndef feature_extract(df: pd.DataFrame) -> Tuple[dict, dict]:\\n    dataset_formats, missing_rates = {}, {}\\n    for col_name in df:\\n        if df[col_name].dtype in COMPLEX_TYPE:\\n            raise ValueError(\\\"Not support Imaginary Number\\\")\\n        elif df[col_name].dtype in BOOLEAN_TYPE:\\n            dataset_formats[col_name] = \\\"T/F\\\"\\n        elif df[col_name].dtype in NUMBER_TYPE:\\n            dataset_formats[col_name] = \\\"NUMBER\\\"\\n        elif df[col_name].dtype in CATEGORY_TYPE:\\n            switch = True\\n            for data in df[col_name]:\\n                if type(data) in NULL_TYPE or pd.isna(data):\\n                    continue\\n                elif type(data) in NUMBER_TYPE:\\n                    switch = False\\n                    dataset_formats[col_name] = \\\"\\ubd88\\uc77c\\uce58\\\"\\n                    break\\n            if switch:\\n                dataset_formats[col_name] = \\\"STRING\\\"\\n        elif df[col_name].dtype in NULL_TYPE:\\n            dataset_formats[col_name] = \\\"\\ube48 \\uceec\\ub7fc\\\"\\n    row_count = df.shape[0]\\n    if row_count == 0:\\n        missing_rates = {col: 0.0 for col in df}\\n    else:\\n        for col_name in df:\\n            miss_count = df[col_name].isna().sum()\\n            missing_rates[col_name] = miss_count / row_count\\n    return dataset_formats, missing_rates\";\n                var nbb_cells = Jupyter.notebook.get_cells();\n                for (var i = 0; i < nbb_cells.length; ++i) {\n                    if (nbb_cells[i].input_prompt_number == nbb_cell_id) {\n                        if (nbb_cells[i].get_text() == nbb_unformatted_code) {\n                             nbb_cells[i].set_text(nbb_formatted_code);\n                        }\n                        break;\n                    }\n                }\n            }, 500);\n            ",
      "text/plain": [
       "<IPython.core.display.Javascript object>"
      ]
     },
     "metadata": {},
     "output_type": "display_data"
    }
   ],
   "source": [
    "\n",
    "from typing import Tuple\n",
    "\n",
    "def feature_extract(df: pd.DataFrame) -> Tuple[dict, dict]:\n",
    "    dataset_formats, missing_rates = {}, {}\n",
    "    for col_name in df:\n",
    "        if df[col_name].dtype in COMPLEX_TYPE:\n",
    "            raise ValueError(\"Not support Imaginary Number\")\n",
    "        elif df[col_name].dtype in BOOLEAN_TYPE:\n",
    "            dataset_formats[col_name] = \"T/F\"\n",
    "        elif df[col_name].dtype in NUMBER_TYPE:\n",
    "            dataset_formats[col_name] = \"NUMBER\"\n",
    "        elif df[col_name].dtype in CATEGORY_TYPE:\n",
    "            switch = True\n",
    "            for data in df[col_name]:\n",
    "                if type(data) in NULL_TYPE or pd.isna(data):\n",
    "                    continue\n",
    "                elif type(data) in NUMBER_TYPE:\n",
    "                    switch = False\n",
    "                    dataset_formats[col_name] = \"불일치\"\n",
    "                    break\n",
    "            if switch:\n",
    "                dataset_formats[col_name] = \"STRING\"\n",
    "        elif df[col_name].dtype in NULL_TYPE:\n",
    "            dataset_formats[col_name] = \"빈 컬럼\"\n",
    "    row_count = df.shape[0]\n",
    "    if row_count == 0:\n",
    "        missing_rates = {col: 0.0 for col in df}\n",
    "    else:\n",
    "        for col_name in df:\n",
    "            miss_count = df[col_name].isna().sum()\n",
    "            missing_rates[col_name] = miss_count / row_count\n",
    "    return dataset_formats, missing_rates\n",
    "\n"
   ]
  },
  {
   "cell_type": "code",
   "execution_count": 51,
   "metadata": {},
   "outputs": [
    {
     "data": {
      "application/javascript": "\n            setTimeout(function() {\n                var nbb_cell_id = 51;\n                var nbb_unformatted_code = \"dataset_formats,missing_rates=feature_extract(auto)\";\n                var nbb_formatted_code = \"dataset_formats, missing_rates = feature_extract(auto)\";\n                var nbb_cells = Jupyter.notebook.get_cells();\n                for (var i = 0; i < nbb_cells.length; ++i) {\n                    if (nbb_cells[i].input_prompt_number == nbb_cell_id) {\n                        if (nbb_cells[i].get_text() == nbb_unformatted_code) {\n                             nbb_cells[i].set_text(nbb_formatted_code);\n                        }\n                        break;\n                    }\n                }\n            }, 500);\n            ",
      "text/plain": [
       "<IPython.core.display.Javascript object>"
      ]
     },
     "metadata": {},
     "output_type": "display_data"
    }
   ],
   "source": [
    "dataset_formats,missing_rates=feature_extract(auto)"
   ]
  },
  {
   "cell_type": "code",
   "execution_count": 52,
   "metadata": {},
   "outputs": [
    {
     "data": {
      "text/plain": [
       "{'symboling': 'NUMBER',\n",
       " 'normalized-losses': 'NUMBER',\n",
       " 'make': 'STRING',\n",
       " 'fuel-type': 'STRING',\n",
       " 'aspiration': 'STRING',\n",
       " 'num-of-doors': 'STRING',\n",
       " 'body-style': 'STRING',\n",
       " 'drive-wheels': 'STRING',\n",
       " 'engine-location': 'STRING',\n",
       " 'wheel-base': 'NUMBER',\n",
       " 'length': 'NUMBER',\n",
       " 'width': 'NUMBER',\n",
       " 'height': 'NUMBER',\n",
       " 'curb-weight': 'NUMBER',\n",
       " 'engine-type': 'STRING',\n",
       " 'num-of-cylinders': 'STRING',\n",
       " 'engine-size': 'NUMBER',\n",
       " 'fuel-system': 'STRING',\n",
       " 'bore': 'NUMBER',\n",
       " 'stroke': 'NUMBER',\n",
       " 'compression-ratio': 'NUMBER',\n",
       " 'horsepower': 'NUMBER',\n",
       " 'peak-rpm': 'NUMBER',\n",
       " 'city-mpg': 'NUMBER',\n",
       " 'highway-mpg': 'NUMBER',\n",
       " 'price': 'NUMBER'}"
      ]
     },
     "execution_count": 52,
     "metadata": {},
     "output_type": "execute_result"
    },
    {
     "data": {
      "application/javascript": "\n            setTimeout(function() {\n                var nbb_cell_id = 52;\n                var nbb_unformatted_code = \"dataset_formats\";\n                var nbb_formatted_code = \"dataset_formats\";\n                var nbb_cells = Jupyter.notebook.get_cells();\n                for (var i = 0; i < nbb_cells.length; ++i) {\n                    if (nbb_cells[i].input_prompt_number == nbb_cell_id) {\n                        if (nbb_cells[i].get_text() == nbb_unformatted_code) {\n                             nbb_cells[i].set_text(nbb_formatted_code);\n                        }\n                        break;\n                    }\n                }\n            }, 500);\n            ",
      "text/plain": [
       "<IPython.core.display.Javascript object>"
      ]
     },
     "metadata": {},
     "output_type": "display_data"
    }
   ],
   "source": [
    "dataset_formats"
   ]
  },
  {
   "cell_type": "code",
   "execution_count": 54,
   "metadata": {},
   "outputs": [
    {
     "data": {
      "text/plain": [
       "{'symboling': 0.0,\n",
       " 'normalized-losses': 0.18407960199004975,\n",
       " 'make': 0.0,\n",
       " 'fuel-type': 0.0,\n",
       " 'aspiration': 0.0,\n",
       " 'num-of-doors': 0.009950248756218905,\n",
       " 'body-style': 0.0,\n",
       " 'drive-wheels': 0.0,\n",
       " 'engine-location': 0.0,\n",
       " 'wheel-base': 0.0,\n",
       " 'length': 0.0,\n",
       " 'width': 0.0,\n",
       " 'height': 0.0,\n",
       " 'curb-weight': 0.0,\n",
       " 'engine-type': 0.0,\n",
       " 'num-of-cylinders': 0.0,\n",
       " 'engine-size': 0.0,\n",
       " 'fuel-system': 0.0,\n",
       " 'bore': 0.01990049751243781,\n",
       " 'stroke': 0.01990049751243781,\n",
       " 'compression-ratio': 0.0,\n",
       " 'horsepower': 0.009950248756218905,\n",
       " 'peak-rpm': 0.009950248756218905,\n",
       " 'city-mpg': 0.0,\n",
       " 'highway-mpg': 0.0,\n",
       " 'price': 0.0}"
      ]
     },
     "execution_count": 54,
     "metadata": {},
     "output_type": "execute_result"
    },
    {
     "data": {
      "application/javascript": "\n            setTimeout(function() {\n                var nbb_cell_id = 54;\n                var nbb_unformatted_code = \"missing_rates\";\n                var nbb_formatted_code = \"missing_rates\";\n                var nbb_cells = Jupyter.notebook.get_cells();\n                for (var i = 0; i < nbb_cells.length; ++i) {\n                    if (nbb_cells[i].input_prompt_number == nbb_cell_id) {\n                        if (nbb_cells[i].get_text() == nbb_unformatted_code) {\n                             nbb_cells[i].set_text(nbb_formatted_code);\n                        }\n                        break;\n                    }\n                }\n            }, 500);\n            ",
      "text/plain": [
       "<IPython.core.display.Javascript object>"
      ]
     },
     "metadata": {},
     "output_type": "display_data"
    }
   ],
   "source": [
    "missing_rates"
   ]
  }
 ],
 "metadata": {
  "interpreter": {
   "hash": "a3a7625f05f2308c5aa097897b3ee247625cb5f2b26688e31edee37a5b7f590e"
  },
  "kernelspec": {
   "display_name": "Python 3.10.2 ('sklearn')",
   "language": "python",
   "name": "python3"
  },
  "language_info": {
   "codemirror_mode": {
    "name": "ipython",
    "version": 3
   },
   "file_extension": ".py",
   "mimetype": "text/x-python",
   "name": "python",
   "nbconvert_exporter": "python",
   "pygments_lexer": "ipython3",
   "version": "3.10.2"
  },
  "orig_nbformat": 4
 },
 "nbformat": 4,
 "nbformat_minor": 2
}
